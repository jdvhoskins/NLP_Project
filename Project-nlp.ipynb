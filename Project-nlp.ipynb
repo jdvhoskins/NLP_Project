{
 "cells": [
  {
   "cell_type": "code",
   "execution_count": 1,
   "metadata": {},
   "outputs": [
    {
     "name": "stdout",
     "output_type": "stream",
     "text": [
      "\n",
      "Length of ngram input list :  550964\n",
      "\n",
      "Length of unique words :  35169\n",
      "\n",
      "Length of bigram words :  550963\n",
      "Length of trigram words :  550962\n"
     ]
    }
   ],
   "source": [
    "import nltk\n",
    "from nltk.corpus import BracketParseCorpusReader as bpc\n",
    "from nltk.corpus import PlaintextCorpusReader as pcr\n",
    "from nltk.corpus import wordnet as wn\n",
    "from nltk import pos_tag\n",
    "from numpy import random\n",
    "\n",
    "\n",
    "corpus_root = \"C:/MSCS-Fall17(courses)/sem2/NLP/Project/corpus/\"\n",
    "corpus = bpc(corpus_root, '.*')\n",
    "corpus_files = corpus.fileids()\n",
    "\n",
    "corpus_tag = corpus.tagged_words()\n",
    "\n",
    "tagged_sent = []\n",
    "for s in range(len(corpus_tag)):\n",
    "    if corpus_tag[s][1] != '-NONE-':\n",
    "        tagged_sent.append(corpus_tag[s])\n",
    "\n",
    "        \n",
    "ngram_input = []       \n",
    "for token in tagged_sent:\n",
    "    ngram_input.append(token[0])\n",
    "\n",
    "print(\"\\nLength of ngram input list : \",len(ngram_input))\n",
    "print(\"\\nLength of unique words : \",len(set(ngram_input)))\n",
    "bgram_obj = nltk.ngrams(ngram_input,2)\n",
    "tgram_obj = nltk.ngrams(ngram_input,3)\n",
    "bgram = list(bgram_obj)\n",
    "tgram = list(tgram_obj)\n",
    "\n",
    "print(\"\\nLength of bigram words : \",len(bgram))\n",
    "print(\"Length of trigram words : \",len(tgram))"
   ]
  },
  {
   "cell_type": "code",
   "execution_count": 44,
   "metadata": {
    "collapsed": true
   },
   "outputs": [],
   "source": [
    "def generate_model(cfdist, word, num=15):\n",
    "    for i in range(num):\n",
    "        print(word, end=' ')\n",
    "        word = cfdist[word].max()\n",
    "\n",
    "cfd = nltk.ConditionalFreqDist(bgram)"
   ]
  },
  {
   "cell_type": "code",
   "execution_count": 45,
   "metadata": {},
   "outputs": [
    {
     "name": "stdout",
     "output_type": "stream",
     "text": [
      "in the same time . \" I 'm not to the same time . \" None\n",
      "There are not to the same time . \" I 'm not to the same None\n",
      "it 's a lot of the same time . \" I 'm not to the None\n",
      "if you know , and the same time . \" I 'm not to the None\n",
      "search of the same time . \" I 'm not to the same time . None\n",
      "watches , and the same time . \" I 'm not to the same time None\n",
      "ride on the same time . \" I 'm not to the same time . None\n",
      "left . \" I 'm not to the same time . \" I 'm not None\n",
      "snatches the same time . \" I 'm not to the same time . \" None\n",
      "two years . \" I 'm not to the same time . \" I 'm None\n",
      "believed that the same time . \" I 'm not to the same time . None\n",
      ". \" I 'm not to the same time . \" I 'm not to None\n",
      "year . \" I 'm not to the same time . \" I 'm not None\n",
      "loans . \" I 'm not to the same time . \" I 'm not None\n",
      "{COM:headers_omitted} Subject : \" I 'm not to the same time . \" I 'm None\n",
      "hanging from the same time . \" I 'm not to the same time . None\n",
      "improve the same time . \" I 'm not to the same time . \" None\n",
      ". \" I 'm not to the same time . \" I 'm not to None\n",
      "of the same time . \" I 'm not to the same time . \" None\n",
      "at the same time . \" I 'm not to the same time . \" None\n"
     ]
    }
   ],
   "source": [
    "random_ngram = random.choice(ngram_input, 20)\n",
    "\n",
    "for i in range(len(random_ngram)):\n",
    "    print(generate_model(cfd,random_ngram[i]))"
   ]
  },
  {
   "cell_type": "code",
   "execution_count": null,
   "metadata": {
    "collapsed": true
   },
   "outputs": [],
   "source": [
    "seed_list = random.choice(ngram_input,20)\n",
    "\n",
    "def make_sent(seed,tgram=False):\n",
    "    sent = []\n",
    "    sent.append(seed)\n",
    "    if(!tgram):\n",
    "        while(sent[i]!=\"\"):\n",
    "            sent.append(get_nextbi(sent[i]))\n",
    "    else:\n",
    "        sent.append(get_nexttri(\"\",sent[i]))\n",
    "        while(sent[i]!=\"\"):\n",
    "            sent.append(get_nexttri(sent[i],sent[i+1]))\n",
    "            \n",
    "    return sent\n",
    "\n",
    "sentence = []\n",
    "full_sent = []\n",
    "for i in range(len(seed_list)):\n",
    "    sentence.append(make_sent(seed_list[i],tgram=False))\n",
    "    full_sentence = \" \".join(sentence)\n",
    "    full_sent.appent(full_sentence)\n",
    "    \n",
    "        "
   ]
  },
  {
   "cell_type": "code",
   "execution_count": null,
   "metadata": {
    "collapsed": true
   },
   "outputs": [],
   "source": []
  },
  {
   "cell_type": "code",
   "execution_count": null,
   "metadata": {
    "collapsed": true
   },
   "outputs": [],
   "source": []
  }
 ],
 "metadata": {
  "kernelspec": {
   "display_name": "Python 3",
   "language": "python",
   "name": "python3"
  },
  "language_info": {
   "codemirror_mode": {
    "name": "ipython",
    "version": 3
   },
   "file_extension": ".py",
   "mimetype": "text/x-python",
   "name": "python",
   "nbconvert_exporter": "python",
   "pygments_lexer": "ipython3",
   "version": "3.6.3"
  }
 },
 "nbformat": 4,
 "nbformat_minor": 2
}
